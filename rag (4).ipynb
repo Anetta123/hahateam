{
  "nbformat": 4,
  "nbformat_minor": 0,
  "metadata": {
    "colab": {
      "provenance": []
    },
    "kernelspec": {
      "name": "python3",
      "display_name": "Python 3"
    },
    "language_info": {
      "name": "python"
    }
  },
  "cells": [
    {
      "cell_type": "code",
      "execution_count": 39,
      "metadata": {
        "id": "FG_C02hAm6jW"
      },
      "outputs": [],
      "source": [
        "import pymupdf  # PyMuPDF\n",
        "import fitz\n",
        "import torch\n",
        "from transformers import MarianTokenizer, AutoModelForSeq2SeqLM, AutoTokenizer, AutoModelForSeq2SeqLM, AutoModelForCausalLM, AutoModelForSpeechSeq2Seq, AutoModelForQuestionAnswering\n",
        "import chromadb\n",
        "from chromadb.config import Settings"
      ]
    },
    {
      "cell_type": "code",
      "source": [
        "def extract_text_from_pdf(pdf_path):\n",
        "    text = \"\"\n",
        "    with pymupdf.open(pdf_path) as doc:\n",
        "        for page in doc:\n",
        "            text += page.get_text()\n",
        "    return text"
      ],
      "metadata": {
        "id": "6PPmBI9ynPl-"
      },
      "execution_count": 40,
      "outputs": []
    },
    {
      "cell_type": "code",
      "source": [
        "# Используем модель BART или другую T5 для генерации текста\n",
        "tokenizer = AutoTokenizer.from_pretrained(\"bigscience/mt0-small\")\n",
        "model = AutoModelForSeq2SeqLM.from_pretrained(\"bigscience/mt0-small\")\n",
        "\n",
        "# Инициализация базы данных ChromaDB\n",
        "client = chromadb.Client(Settings(persist_directory=\"./chroma_db\"))\n",
        "collection = client.create_collection(\"pdf_documents\")"
      ],
      "metadata": {
        "colab": {
          "base_uri": "https://localhost:8080/",
          "height": 339
        },
        "id": "BxkNgqIUnxSx",
        "outputId": "1b665fb4-bacc-4fe8-8895-071a0a238975"
      },
      "execution_count": 41,
      "outputs": [
        {
          "output_type": "error",
          "ename": "UniqueConstraintError",
          "evalue": "Collection pdf_documents already exists",
          "traceback": [
            "\u001b[0;31m---------------------------------------------------------------------------\u001b[0m",
            "\u001b[0;31mUniqueConstraintError\u001b[0m                     Traceback (most recent call last)",
            "\u001b[0;32m<ipython-input-41-4f57f02058f3>\u001b[0m in \u001b[0;36m<cell line: 7>\u001b[0;34m()\u001b[0m\n\u001b[1;32m      5\u001b[0m \u001b[0;31m# Инициализация базы данных ChromaDB\u001b[0m\u001b[0;34m\u001b[0m\u001b[0;34m\u001b[0m\u001b[0m\n\u001b[1;32m      6\u001b[0m \u001b[0mclient\u001b[0m \u001b[0;34m=\u001b[0m \u001b[0mchromadb\u001b[0m\u001b[0;34m.\u001b[0m\u001b[0mClient\u001b[0m\u001b[0;34m(\u001b[0m\u001b[0mSettings\u001b[0m\u001b[0;34m(\u001b[0m\u001b[0mpersist_directory\u001b[0m\u001b[0;34m=\u001b[0m\u001b[0;34m\"./chroma_db\"\u001b[0m\u001b[0;34m)\u001b[0m\u001b[0;34m)\u001b[0m\u001b[0;34m\u001b[0m\u001b[0;34m\u001b[0m\u001b[0m\n\u001b[0;32m----> 7\u001b[0;31m \u001b[0mcollection\u001b[0m \u001b[0;34m=\u001b[0m \u001b[0mclient\u001b[0m\u001b[0;34m.\u001b[0m\u001b[0mcreate_collection\u001b[0m\u001b[0;34m(\u001b[0m\u001b[0;34m\"pdf_documents\"\u001b[0m\u001b[0;34m)\u001b[0m\u001b[0;34m\u001b[0m\u001b[0;34m\u001b[0m\u001b[0m\n\u001b[0m",
            "\u001b[0;32m/usr/local/lib/python3.10/dist-packages/chromadb/api/client.py\u001b[0m in \u001b[0;36mcreate_collection\u001b[0;34m(self, name, configuration, metadata, embedding_function, data_loader, get_or_create)\u001b[0m\n\u001b[1;32m    145\u001b[0m         \u001b[0mget_or_create\u001b[0m\u001b[0;34m:\u001b[0m \u001b[0mbool\u001b[0m \u001b[0;34m=\u001b[0m \u001b[0;32mFalse\u001b[0m\u001b[0;34m,\u001b[0m\u001b[0;34m\u001b[0m\u001b[0;34m\u001b[0m\u001b[0m\n\u001b[1;32m    146\u001b[0m     ) -> Collection:\n\u001b[0;32m--> 147\u001b[0;31m         model = self._server.create_collection(\n\u001b[0m\u001b[1;32m    148\u001b[0m             \u001b[0mname\u001b[0m\u001b[0;34m=\u001b[0m\u001b[0mname\u001b[0m\u001b[0;34m,\u001b[0m\u001b[0;34m\u001b[0m\u001b[0;34m\u001b[0m\u001b[0m\n\u001b[1;32m    149\u001b[0m             \u001b[0mmetadata\u001b[0m\u001b[0;34m=\u001b[0m\u001b[0mmetadata\u001b[0m\u001b[0;34m,\u001b[0m\u001b[0;34m\u001b[0m\u001b[0;34m\u001b[0m\u001b[0m\n",
            "\u001b[0;32m/usr/local/lib/python3.10/dist-packages/chromadb/telemetry/opentelemetry/__init__.py\u001b[0m in \u001b[0;36mwrapper\u001b[0;34m(*args, **kwargs)\u001b[0m\n\u001b[1;32m    148\u001b[0m                 \u001b[0;32mglobal\u001b[0m \u001b[0mtracer\u001b[0m\u001b[0;34m,\u001b[0m \u001b[0mgranularity\u001b[0m\u001b[0;34m\u001b[0m\u001b[0;34m\u001b[0m\u001b[0m\n\u001b[1;32m    149\u001b[0m                 \u001b[0;32mif\u001b[0m \u001b[0mtrace_granularity\u001b[0m \u001b[0;34m<\u001b[0m \u001b[0mgranularity\u001b[0m\u001b[0;34m:\u001b[0m\u001b[0;34m\u001b[0m\u001b[0;34m\u001b[0m\u001b[0m\n\u001b[0;32m--> 150\u001b[0;31m                     \u001b[0;32mreturn\u001b[0m \u001b[0mf\u001b[0m\u001b[0;34m(\u001b[0m\u001b[0;34m*\u001b[0m\u001b[0margs\u001b[0m\u001b[0;34m,\u001b[0m \u001b[0;34m**\u001b[0m\u001b[0mkwargs\u001b[0m\u001b[0;34m)\u001b[0m\u001b[0;34m\u001b[0m\u001b[0;34m\u001b[0m\u001b[0m\n\u001b[0m\u001b[1;32m    151\u001b[0m                 \u001b[0;32mif\u001b[0m \u001b[0;32mnot\u001b[0m \u001b[0mtracer\u001b[0m\u001b[0;34m:\u001b[0m\u001b[0;34m\u001b[0m\u001b[0;34m\u001b[0m\u001b[0m\n\u001b[1;32m    152\u001b[0m                     \u001b[0;32mreturn\u001b[0m \u001b[0mf\u001b[0m\u001b[0;34m(\u001b[0m\u001b[0;34m*\u001b[0m\u001b[0margs\u001b[0m\u001b[0;34m,\u001b[0m \u001b[0;34m**\u001b[0m\u001b[0mkwargs\u001b[0m\u001b[0;34m)\u001b[0m\u001b[0;34m\u001b[0m\u001b[0;34m\u001b[0m\u001b[0m\n",
            "\u001b[0;32m/usr/local/lib/python3.10/dist-packages/chromadb/api/segment.py\u001b[0m in \u001b[0;36mwrapper\u001b[0;34m(*args, **kwargs)\u001b[0m\n\u001b[1;32m    101\u001b[0m     \u001b[0;32mdef\u001b[0m \u001b[0mwrapper\u001b[0m\u001b[0;34m(\u001b[0m\u001b[0;34m*\u001b[0m\u001b[0margs\u001b[0m\u001b[0;34m:\u001b[0m \u001b[0mAny\u001b[0m\u001b[0;34m,\u001b[0m \u001b[0;34m**\u001b[0m\u001b[0mkwargs\u001b[0m\u001b[0;34m:\u001b[0m \u001b[0mAny\u001b[0m\u001b[0;34m)\u001b[0m \u001b[0;34m->\u001b[0m \u001b[0mAny\u001b[0m\u001b[0;34m:\u001b[0m\u001b[0;34m\u001b[0m\u001b[0;34m\u001b[0m\u001b[0m\n\u001b[1;32m    102\u001b[0m         \u001b[0mself\u001b[0m \u001b[0;34m=\u001b[0m \u001b[0margs\u001b[0m\u001b[0;34m[\u001b[0m\u001b[0;36m0\u001b[0m\u001b[0;34m]\u001b[0m\u001b[0;34m\u001b[0m\u001b[0;34m\u001b[0m\u001b[0m\n\u001b[0;32m--> 103\u001b[0;31m         \u001b[0;32mreturn\u001b[0m \u001b[0mself\u001b[0m\u001b[0;34m.\u001b[0m\u001b[0m_rate_limit_enforcer\u001b[0m\u001b[0;34m.\u001b[0m\u001b[0mrate_limit\u001b[0m\u001b[0;34m(\u001b[0m\u001b[0mfunc\u001b[0m\u001b[0;34m)\u001b[0m\u001b[0;34m(\u001b[0m\u001b[0;34m*\u001b[0m\u001b[0margs\u001b[0m\u001b[0;34m,\u001b[0m \u001b[0;34m**\u001b[0m\u001b[0mkwargs\u001b[0m\u001b[0;34m)\u001b[0m\u001b[0;34m\u001b[0m\u001b[0;34m\u001b[0m\u001b[0m\n\u001b[0m\u001b[1;32m    104\u001b[0m \u001b[0;34m\u001b[0m\u001b[0m\n\u001b[1;32m    105\u001b[0m     \u001b[0;32mreturn\u001b[0m \u001b[0mwrapper\u001b[0m  \u001b[0;31m# type: ignore\u001b[0m\u001b[0;34m\u001b[0m\u001b[0;34m\u001b[0m\u001b[0m\n",
            "\u001b[0;32m/usr/local/lib/python3.10/dist-packages/chromadb/rate_limit/simple_rate_limit/__init__.py\u001b[0m in \u001b[0;36mwrapper\u001b[0;34m(*args, **kwargs)\u001b[0m\n\u001b[1;32m     21\u001b[0m         \u001b[0;34m@\u001b[0m\u001b[0mwraps\u001b[0m\u001b[0;34m(\u001b[0m\u001b[0mfunc\u001b[0m\u001b[0;34m)\u001b[0m\u001b[0;34m\u001b[0m\u001b[0;34m\u001b[0m\u001b[0m\n\u001b[1;32m     22\u001b[0m         \u001b[0;32mdef\u001b[0m \u001b[0mwrapper\u001b[0m\u001b[0;34m(\u001b[0m\u001b[0;34m*\u001b[0m\u001b[0margs\u001b[0m\u001b[0;34m:\u001b[0m \u001b[0mAny\u001b[0m\u001b[0;34m,\u001b[0m \u001b[0;34m**\u001b[0m\u001b[0mkwargs\u001b[0m\u001b[0;34m:\u001b[0m \u001b[0mAny\u001b[0m\u001b[0;34m)\u001b[0m \u001b[0;34m->\u001b[0m \u001b[0mAny\u001b[0m\u001b[0;34m:\u001b[0m\u001b[0;34m\u001b[0m\u001b[0;34m\u001b[0m\u001b[0m\n\u001b[0;32m---> 23\u001b[0;31m             \u001b[0;32mreturn\u001b[0m \u001b[0mfunc\u001b[0m\u001b[0;34m(\u001b[0m\u001b[0;34m*\u001b[0m\u001b[0margs\u001b[0m\u001b[0;34m,\u001b[0m \u001b[0;34m**\u001b[0m\u001b[0mkwargs\u001b[0m\u001b[0;34m)\u001b[0m\u001b[0;34m\u001b[0m\u001b[0;34m\u001b[0m\u001b[0m\n\u001b[0m\u001b[1;32m     24\u001b[0m \u001b[0;34m\u001b[0m\u001b[0m\n\u001b[1;32m     25\u001b[0m         \u001b[0;32mreturn\u001b[0m \u001b[0mwrapper\u001b[0m  \u001b[0;31m# type: ignore\u001b[0m\u001b[0;34m\u001b[0m\u001b[0;34m\u001b[0m\u001b[0m\n",
            "\u001b[0;32m/usr/local/lib/python3.10/dist-packages/chromadb/api/segment.py\u001b[0m in \u001b[0;36mcreate_collection\u001b[0;34m(self, name, configuration, metadata, get_or_create, tenant, database)\u001b[0m\n\u001b[1;32m    224\u001b[0m \u001b[0;34m\u001b[0m\u001b[0m\n\u001b[1;32m    225\u001b[0m         \u001b[0;31m# TODO: Let sysdb create the collection directly from the model\u001b[0m\u001b[0;34m\u001b[0m\u001b[0;34m\u001b[0m\u001b[0m\n\u001b[0;32m--> 226\u001b[0;31m         coll, created = self._sysdb.create_collection(\n\u001b[0m\u001b[1;32m    227\u001b[0m             \u001b[0mid\u001b[0m\u001b[0;34m=\u001b[0m\u001b[0mmodel\u001b[0m\u001b[0;34m.\u001b[0m\u001b[0mid\u001b[0m\u001b[0;34m,\u001b[0m\u001b[0;34m\u001b[0m\u001b[0;34m\u001b[0m\u001b[0m\n\u001b[1;32m    228\u001b[0m             \u001b[0mname\u001b[0m\u001b[0;34m=\u001b[0m\u001b[0mmodel\u001b[0m\u001b[0;34m.\u001b[0m\u001b[0mname\u001b[0m\u001b[0;34m,\u001b[0m\u001b[0;34m\u001b[0m\u001b[0;34m\u001b[0m\u001b[0m\n",
            "\u001b[0;32m/usr/local/lib/python3.10/dist-packages/chromadb/telemetry/opentelemetry/__init__.py\u001b[0m in \u001b[0;36mwrapper\u001b[0;34m(*args, **kwargs)\u001b[0m\n\u001b[1;32m    148\u001b[0m                 \u001b[0;32mglobal\u001b[0m \u001b[0mtracer\u001b[0m\u001b[0;34m,\u001b[0m \u001b[0mgranularity\u001b[0m\u001b[0;34m\u001b[0m\u001b[0;34m\u001b[0m\u001b[0m\n\u001b[1;32m    149\u001b[0m                 \u001b[0;32mif\u001b[0m \u001b[0mtrace_granularity\u001b[0m \u001b[0;34m<\u001b[0m \u001b[0mgranularity\u001b[0m\u001b[0;34m:\u001b[0m\u001b[0;34m\u001b[0m\u001b[0;34m\u001b[0m\u001b[0m\n\u001b[0;32m--> 150\u001b[0;31m                     \u001b[0;32mreturn\u001b[0m \u001b[0mf\u001b[0m\u001b[0;34m(\u001b[0m\u001b[0;34m*\u001b[0m\u001b[0margs\u001b[0m\u001b[0;34m,\u001b[0m \u001b[0;34m**\u001b[0m\u001b[0mkwargs\u001b[0m\u001b[0;34m)\u001b[0m\u001b[0;34m\u001b[0m\u001b[0;34m\u001b[0m\u001b[0m\n\u001b[0m\u001b[1;32m    151\u001b[0m                 \u001b[0;32mif\u001b[0m \u001b[0;32mnot\u001b[0m \u001b[0mtracer\u001b[0m\u001b[0;34m:\u001b[0m\u001b[0;34m\u001b[0m\u001b[0;34m\u001b[0m\u001b[0m\n\u001b[1;32m    152\u001b[0m                     \u001b[0;32mreturn\u001b[0m \u001b[0mf\u001b[0m\u001b[0;34m(\u001b[0m\u001b[0;34m*\u001b[0m\u001b[0margs\u001b[0m\u001b[0;34m,\u001b[0m \u001b[0;34m**\u001b[0m\u001b[0mkwargs\u001b[0m\u001b[0;34m)\u001b[0m\u001b[0;34m\u001b[0m\u001b[0;34m\u001b[0m\u001b[0m\n",
            "\u001b[0;32m/usr/local/lib/python3.10/dist-packages/chromadb/db/mixins/sysdb.py\u001b[0m in \u001b[0;36mcreate_collection\u001b[0;34m(self, id, name, configuration, segments, metadata, dimension, get_or_create, tenant, database)\u001b[0m\n\u001b[1;32m    239\u001b[0m                 )\n\u001b[1;32m    240\u001b[0m             \u001b[0;32melse\u001b[0m\u001b[0;34m:\u001b[0m\u001b[0;34m\u001b[0m\u001b[0;34m\u001b[0m\u001b[0m\n\u001b[0;32m--> 241\u001b[0;31m                 \u001b[0;32mraise\u001b[0m \u001b[0mUniqueConstraintError\u001b[0m\u001b[0;34m(\u001b[0m\u001b[0;34mf\"Collection {name} already exists\"\u001b[0m\u001b[0;34m)\u001b[0m\u001b[0;34m\u001b[0m\u001b[0;34m\u001b[0m\u001b[0m\n\u001b[0m\u001b[1;32m    242\u001b[0m \u001b[0;34m\u001b[0m\u001b[0m\n\u001b[1;32m    243\u001b[0m         collection = Collection(\n",
            "\u001b[0;31mUniqueConstraintError\u001b[0m: Collection pdf_documents already exists"
          ]
        }
      ]
    },
    {
      "cell_type": "code",
      "source": [
        "def embed_texts(texts):\n",
        "    inputs = tokenizer(texts, return_tensors='pt', padding=True, truncation=True)\n",
        "    with torch.no_grad():\n",
        "        embeddings = model.get_decoder()(**inputs).last_hidden_state.mean(dim=1)  # Среднее по всем токенам\n",
        "    return embeddings\n",
        "\n",
        "def index_pdf(pdf_path):\n",
        "    text = extract_text_from_pdf(pdf_path)\n",
        "    embedding = embed_texts([text]).numpy().tolist()\n",
        "    collection.add(documents=[text], embeddings=embedding)"
      ],
      "metadata": {
        "id": "JlBwpTdqnzLl"
      },
      "execution_count": 42,
      "outputs": []
    },
    {
      "cell_type": "code",
      "source": [
        "index_pdf('drive/MyDrive/233.pdf')"
      ],
      "metadata": {
        "id": "O3wy468HqGeG",
        "colab": {
          "base_uri": "https://localhost:8080/",
          "height": 287
        },
        "outputId": "f8a0d774-a666-49bb-9b8d-ab7960407154"
      },
      "execution_count": null,
      "outputs": [
        {
          "output_type": "error",
          "ename": "NameError",
          "evalue": "name 'tokenizer' is not defined",
          "traceback": [
            "\u001b[0;31m---------------------------------------------------------------------------\u001b[0m",
            "\u001b[0;31mNameError\u001b[0m                                 Traceback (most recent call last)",
            "\u001b[0;32m<ipython-input-20-dc12dd06f764>\u001b[0m in \u001b[0;36m<cell line: 1>\u001b[0;34m()\u001b[0m\n\u001b[0;32m----> 1\u001b[0;31m \u001b[0mindex_pdf\u001b[0m\u001b[0;34m(\u001b[0m\u001b[0;34m'drive/MyDrive/233.pdf'\u001b[0m\u001b[0;34m)\u001b[0m\u001b[0;34m\u001b[0m\u001b[0;34m\u001b[0m\u001b[0m\n\u001b[0m",
            "\u001b[0;32m<ipython-input-19-1c91f9e694c2>\u001b[0m in \u001b[0;36mindex_pdf\u001b[0;34m(pdf_path)\u001b[0m\n\u001b[1;32m      7\u001b[0m \u001b[0;32mdef\u001b[0m \u001b[0mindex_pdf\u001b[0m\u001b[0;34m(\u001b[0m\u001b[0mpdf_path\u001b[0m\u001b[0;34m)\u001b[0m\u001b[0;34m:\u001b[0m\u001b[0;34m\u001b[0m\u001b[0;34m\u001b[0m\u001b[0m\n\u001b[1;32m      8\u001b[0m     \u001b[0mtext\u001b[0m \u001b[0;34m=\u001b[0m \u001b[0mextract_text_from_pdf\u001b[0m\u001b[0;34m(\u001b[0m\u001b[0mpdf_path\u001b[0m\u001b[0;34m)\u001b[0m\u001b[0;34m\u001b[0m\u001b[0;34m\u001b[0m\u001b[0m\n\u001b[0;32m----> 9\u001b[0;31m     \u001b[0membedding\u001b[0m \u001b[0;34m=\u001b[0m \u001b[0membed_texts\u001b[0m\u001b[0;34m(\u001b[0m\u001b[0;34m[\u001b[0m\u001b[0mtext\u001b[0m\u001b[0;34m]\u001b[0m\u001b[0;34m)\u001b[0m\u001b[0;34m.\u001b[0m\u001b[0mnumpy\u001b[0m\u001b[0;34m(\u001b[0m\u001b[0;34m)\u001b[0m\u001b[0;34m.\u001b[0m\u001b[0mtolist\u001b[0m\u001b[0;34m(\u001b[0m\u001b[0;34m)\u001b[0m\u001b[0;34m\u001b[0m\u001b[0;34m\u001b[0m\u001b[0m\n\u001b[0m\u001b[1;32m     10\u001b[0m     \u001b[0mcollection\u001b[0m\u001b[0;34m.\u001b[0m\u001b[0madd\u001b[0m\u001b[0;34m(\u001b[0m\u001b[0mdocuments\u001b[0m\u001b[0;34m=\u001b[0m\u001b[0;34m[\u001b[0m\u001b[0mtext\u001b[0m\u001b[0;34m]\u001b[0m\u001b[0;34m,\u001b[0m \u001b[0membeddings\u001b[0m\u001b[0;34m=\u001b[0m\u001b[0membedding\u001b[0m\u001b[0;34m)\u001b[0m\u001b[0;34m\u001b[0m\u001b[0;34m\u001b[0m\u001b[0m\n",
            "\u001b[0;32m<ipython-input-19-1c91f9e694c2>\u001b[0m in \u001b[0;36membed_texts\u001b[0;34m(texts)\u001b[0m\n\u001b[1;32m      1\u001b[0m \u001b[0;32mdef\u001b[0m \u001b[0membed_texts\u001b[0m\u001b[0;34m(\u001b[0m\u001b[0mtexts\u001b[0m\u001b[0;34m)\u001b[0m\u001b[0;34m:\u001b[0m\u001b[0;34m\u001b[0m\u001b[0;34m\u001b[0m\u001b[0m\n\u001b[0;32m----> 2\u001b[0;31m     \u001b[0minputs\u001b[0m \u001b[0;34m=\u001b[0m \u001b[0mtokenizer\u001b[0m\u001b[0;34m(\u001b[0m\u001b[0mtexts\u001b[0m\u001b[0;34m,\u001b[0m \u001b[0mreturn_tensors\u001b[0m\u001b[0;34m=\u001b[0m\u001b[0;34m'pt'\u001b[0m\u001b[0;34m,\u001b[0m \u001b[0mpadding\u001b[0m\u001b[0;34m=\u001b[0m\u001b[0;32mTrue\u001b[0m\u001b[0;34m,\u001b[0m \u001b[0mtruncation\u001b[0m\u001b[0;34m=\u001b[0m\u001b[0;32mTrue\u001b[0m\u001b[0;34m)\u001b[0m\u001b[0;34m\u001b[0m\u001b[0;34m\u001b[0m\u001b[0m\n\u001b[0m\u001b[1;32m      3\u001b[0m     \u001b[0;32mwith\u001b[0m \u001b[0mtorch\u001b[0m\u001b[0;34m.\u001b[0m\u001b[0mno_grad\u001b[0m\u001b[0;34m(\u001b[0m\u001b[0;34m)\u001b[0m\u001b[0;34m:\u001b[0m\u001b[0;34m\u001b[0m\u001b[0;34m\u001b[0m\u001b[0m\n\u001b[1;32m      4\u001b[0m         \u001b[0membeddings\u001b[0m \u001b[0;34m=\u001b[0m \u001b[0mmodel\u001b[0m\u001b[0;34m.\u001b[0m\u001b[0mget_decoder\u001b[0m\u001b[0;34m(\u001b[0m\u001b[0;34m)\u001b[0m\u001b[0;34m(\u001b[0m\u001b[0;34m**\u001b[0m\u001b[0minputs\u001b[0m\u001b[0;34m)\u001b[0m\u001b[0;34m.\u001b[0m\u001b[0mlast_hidden_state\u001b[0m\u001b[0;34m.\u001b[0m\u001b[0mmean\u001b[0m\u001b[0;34m(\u001b[0m\u001b[0mdim\u001b[0m\u001b[0;34m=\u001b[0m\u001b[0;36m1\u001b[0m\u001b[0;34m)\u001b[0m  \u001b[0;31m# Среднее по всем токенам\u001b[0m\u001b[0;34m\u001b[0m\u001b[0;34m\u001b[0m\u001b[0m\n\u001b[1;32m      5\u001b[0m     \u001b[0;32mreturn\u001b[0m \u001b[0membeddings\u001b[0m\u001b[0;34m\u001b[0m\u001b[0;34m\u001b[0m\u001b[0m\n",
            "\u001b[0;31mNameError\u001b[0m: name 'tokenizer' is not defined"
          ]
        }
      ]
    },
    {
      "cell_type": "code",
      "source": [
        "def retrieve_documents(query, k=5):\n",
        "    query_embedding = embed_texts([query]).numpy().tolist()\n",
        "    results = collection.query(query_embeddings=query_embedding, n_results=k)\n",
        "    return results['documents'][0]"
      ],
      "metadata": {
        "id": "VtqczLUjn3fj"
      },
      "execution_count": 43,
      "outputs": []
    },
    {
      "cell_type": "code",
      "source": [
        "import pandas as pd"
      ],
      "metadata": {
        "id": "8h0Fc_yZi_1i"
      },
      "execution_count": 44,
      "outputs": []
    },
    {
      "cell_type": "code",
      "source": [
        "def load_csv_data(file_path):\n",
        "    \"\"\"Загрузка данных из CSV-файла.\"\"\"\n",
        "    return pd.read_csv(file_path)"
      ],
      "metadata": {
        "id": "mgeQqFcsi5wb"
      },
      "execution_count": 45,
      "outputs": []
    },
    {
      "cell_type": "code",
      "source": [
        "def rag_pipeline(query, csv_file_path, k=5):\n",
        "    # Извлечение документов\n",
        "    #retrieved_docs = retrieve_documents(query, k)\n",
        "    # Чтение данных из CSV\n",
        "    data = load_csv_data(csv_file_path)\n",
        "\n",
        "    # Извлечение контекста (например, первые k строк)\n",
        "    retrieved_docs = data.to_string()  # Получаем первые k контекстов\n",
        "\n",
        "    context = \"Искусственный интеллект - сфера науки о данных\" # Объединяем документы в контекст\n",
        "\n",
        "    # Создание входного текста для генерации\n",
        "    input_text = f\"Context: {context}\\nQuery: {retrieved_docs}\\nAnswer:\"\n",
        "    # Генерация ответа\n",
        "    input_ids = tokenizer.encode(input_text, return_tensors='pt')\n",
        "    with torch.no_grad():\n",
        "        output = model.generate(input_ids)  # Генерация ответа\n",
        "\n",
        "    answer = tokenizer.decode(output[0], skip_special_tokens=True)\n",
        "    return answer"
      ],
      "metadata": {
        "id": "wUdtCycQn5L8"
      },
      "execution_count": 48,
      "outputs": []
    },
    {
      "cell_type": "code",
      "source": [
        "query = \"Что такое искусственный интеллект\"\n",
        "answer = rag_pipeline(query, 'test.csv')\n",
        "print(answer)"
      ],
      "metadata": {
        "colab": {
          "base_uri": "https://localhost:8080/"
        },
        "id": "9k4DYe9fn8Qw",
        "outputId": "2d0749e1-7a8a-4f30-d90b-3124ffec8224"
      },
      "execution_count": 47,
      "outputs": [
        {
          "output_type": "stream",
          "name": "stdout",
          "text": [
            "Context: Искусственный интеллект - сфера науки о данных\n",
            "Query:                                                                                                          user_input\n",
            "0                                                   Как настроить норму внесения удобрений на распределителе ZG-TS?\n",
            "1                                     Какие действия необходимо выполнить перед первым вводом в эксплуатацию ZG-TS?\n",
            "2                                                                   Что означает система AutoTS и как её настроить?\n",
            "3                                 Какие шаги нужно предпринять для проверки масляного фильтра распределителя ZG-TS?\n",
            "4                                        Как настроить пограничное распределение с использованием системы BorderTS?\n",
            "5                                   Какие меры безопасности необходимо соблюдать при работе с терминалом AmaTron 4?\n",
            "6                                                                       Как подключить терминал AmaTron 4 к ISOBUS?\n",
            "7                                                             Что такое функция WindControl, и как её использовать?\n",
            "8                                         Какие параметры следует учитывать при выборе трактора для работы с ZG-TS?\n",
            "9                                                                        Как изменить язык интерфейса на AmaTron 4?\n",
            "10                                                        Что делать, если система GPS-Switch работает некорректно?\n",
            "11                                                              Как выполнить тарирование распределителя удобрений?\n",
            "12                                                      Какие преимущества обеспечивает технология HeadlandControl?\n",
            "13                                                           Как настроить автоматическое дозирование в предкамере?\n",
            "14                                                      Какие шаги нужно предпринять для калибровки распределителя?\n",
            "15                                     Как использовать приложение mySpreader для управления оборудованием AMAZONE?\n",
            "16                                                                          Как сохранить данные поля на AmaTron 4?\n",
            "17                                  Какие требования предъявляются к температурным условиям эксплуатации AmaTron 4?\n",
            "18                                                                     Как выполнить диагностику системы ArgusTwin?\n",
            "19                                                              Что включает в себя техническое обслуживание ZG-TS?\n",
            "20                                                                            Как изменить ширину захвата на ZG-TS?\n",
            "21                                                       Почему на дисплее AmaTron 4 не отображаются данные о поле?\n",
            "22                                                   Что делать, если распределитель неравномерно вносит удобрения?\n",
            "23                                                            Где найти руководство по настройке GPS для AmaTron 4?\n",
            "24                                                                         Как добавить новую карту поля в систему?\n",
            "25                                                      Почему терминал не включается после подключения к трактору?\n",
            "26                                                                  Как узнать, поддерживает ли мой трактор ISOBUS?\n",
            "27                                                      Что делать, если система WindControl не компенсирует ветер?\n",
            "28                                                      Почему не работает система автоматического опускания штанг?\n",
            "29                                                               Как подключить устройство ввода AUX-N к AmaTron 4?\n",
            "30                                                                    kak sdelat chtob normavno rabotal gps switch?\n",
            "31                                                                          Почему ломаетса транспортер на бункере?\n",
            "32                                                                                 Kak sdelat kalibrovku dla ZG-TS?\n",
            "33                                                                         Что делать, если термИнал не видит пОле?\n",
            "34                                                                    skazhite pls kak vklyuchit funciyu border ts?\n",
            "35                                                                Прецизионные системы распределения как настроитЬ?\n",
            "36                                                                         как включить функцию 'ветрокомпенсация'?\n",
            "37                                                                       Почему трактор не поднимает агрегат ZG-TS?\n",
            "38                                                             Как исправить ошибку калибровки при смене удобрений?\n",
            "39                                                           Что делать, если ленточный транспортер не запускается?\n",
            "40                              Какие параметры являются критичными для настройки нормы внесения при сильном ветре?\n",
            "41                                        Как проверить соответствие оборудования AMAZONE экологическим стандартам?\n",
            "42                                        Какие факторы учитывать при использовании системы параллельного вождения?\n",
            "43                                                    Как интегрировать данные поля из формата ISO-XML в AmaTron 4?\n",
            "44                                       Что делать, если калибровочные параметры не соответствуют нормам внесения?\n",
            "45                                       Какие меры предосторожности нужно соблюдать при замене редуктора на ZG-TS?\n",
            "46                                                 Как определить коэффициент калибровки для нового типа удобрения?\n",
            "47                                       Какие проблемы может вызвать несоответствие системы GPS стандартам ISOBUS?\n",
            "48                                             Как оптимизировать маршрут с использованием функции HeadlandControl?\n",
            "49                                                      Как правильно хранить оборудование AMAZONE в зимний период?\n",
            "50                                                                     best tips for calibrating AMAZONE ZG-TS 7501\n",
            "51                                                      How to fix uneven fertilizer distribution AMAZONE spreader?\n",
            "52                                                                    GPS-Switch error amazone how to troubleshoot?\n",
            "53                                                                   How to setup ArgusTwin control system AMAZONE?\n",
            "54                                                           Best settings for windy conditions AMAZONE WindControl\n",
            "55                                                                        What is AutoTS and how to use it AMAZONE?\n",
            "56                                                                      Download manual AmaTron 4 calibration steps\n",
            "57                                                                   Troubleshooting errors in field data AmaTron 4\n",
            "58                                                               How to optimize border spreading AMAZONE spreader?\n",
            "59                                                                       Repairing conveyor belt AMAZONE ZG-TS tips\n",
            "60                                                                          Как установить новое поле на AmaTron 4?\n",
            "61                                       Какие действия необходимы для проверки системы пограничного распределения?\n",
            "62                                                      Что делать, если дисплей AmaTron 4 не реагирует на касания?\n",
            "63                             Как активировать функцию автоматического дозирования и убедиться в её точной работе?\n",
            "64                         Какие шаги нужно предпринять для предотвращения повреждений от перегрева системы ISOBUS?\n",
            "65                                         Как настроить систему WindControl для работы на поле с сильными ветрами?\n",
            "66                     Какие параметры необходимо задать на терминале AmaTron 4 перед началом работы на новом поле?\n",
            "67                                                    Как подготовить карту поля для загрузки в систему GPS-Switch?\n",
            "68                                  Как рассчитать оптимальную норму внесения удобрений для конкретного типа почвы?\n",
            "69            Какие действия необходимо выполнить для настройки пограничного распределения с использованием AutoTS?\n",
            "70           Как установить параметры ширины захвата на распределителе ZG-TS для работы на поле неправильной формы?\n",
            "71                                         Как определить коэффициент калибровки удобрений при подготовке к работе?\n",
            "72                      Какие настройки необходимо выполнить в AmaTron 4 для работы с определённым типом удобрений?\n",
            "73                    Как включить и настроить функцию HeadlandControl для оптимизации распределения на краях поля?\n",
            "74                      Какие предварительные проверки системы ArgusTwin необходимо выполнить перед началом работы?\n",
            "75                                                 Как подготовить терминал AmaTron 4 для работы с данными ISO-XML?\n",
            "76                     Какие параметры системы параллельного вождения нужно задать для равномерной высадки на поле?\n",
            "77                                              Как правильно настроить ленточный транспортер для подачи удобрений?\n",
            "78                       Какие шаги необходимо выполнить для настройки точности распределения через систему ISOBUS?\n",
            "79                               Как заранее настроить отображение карты на AmaTron 4 для удобного контроля работы?\n",
            "80                                 Как выбрать подходящий режим работы системы GPS-ScenarioControl для нового поля?\n",
            "81    Какие данные о поле нужно заранее ввести в систему для корректной работы пограничного распределения BorderTS?\n",
            "82                  Как настроить автоматическое дозирование в предкамере для равномерного распределения удобрений?\n",
            "83                     Как активировать и настроить функции ArgusTwin для работы с изменяющимися условиями на поле?\n",
            "84              Какие параметры регулировки распределительных дисков нужно задать перед началом внесения удобрений?\n",
            "85                                         Как откалибровать весы ProfisPro для точного определения нормы внесения?\n",
            "86                  Как настроить виртуальные разворотные полосы в AmaTron 4 для минимизации пересечения маршрутов?\n",
            "87            Какие данные о тракторе нужно ввести в систему AmaTron 4 для оптимальной работы распределителя ZG-TS?\n",
            "88   Как заранее настроить уровень громкости и яркости дисплея на AmaTron 4 для работы в разных условиях освещения?\n",
            "89                           Какие настройки фильтров расстояния на AmaTron 4 помогут эффективно искать новое поле?\n",
            "90                              Как активировать функции автоматического выключения секций при перекрытиях на поле?\n",
            "91                       Какие дополнительные параметры требуется ввести для работы с нестандартными формами полей?\n",
            "92                           Как правильно настроить приложение mySpreader для предварительного планирования работ?\n",
            "93                      Какие шаги необходимо выполнить для настройки дисплея и отображения ключевых данных работы?\n",
            "94            Как заранее активировать и настроить систему пограничного распределения для разных типов границ поля?\n",
            "95           Какие настройки нужно сделать для автоматического масштабирования карты на экране терминала AmaTron 4?\n",
            "96                                      Как подготовить распределитель ZG-TS к работе с пеллетами вместо удобрений?\n",
            "97              Какие параметры задавать для предварительного расчёта потребности в удобрении на основе карты поля?\n",
            "98                              Как выбрать оптимальные настройки скорости трактора для равномерного распределения?\n",
            "99                                        Какие функции системы WindControl следует проверить перед началом работы?\n",
            "100                       Как подключить и настроить камеру для дополнительного контроля за работой распределителя?\n",
            "101                                      Как настроить автоматическую компенсацию наклона на сложных участках поля?\n",
            "102                Какие предварительные проверки гидравлической системы необходимо выполнить перед началом работы?\n",
            "103                                                 Как заранее настроить точки загрузки удобрений в системе ZG-TS?\n",
            "104             Какие параметры регулировки тормозного усилия нужно задать для безопасной работы в условиях склона?\n",
            "105                            Как включить автоматическое управление секциями распределителя на основе данных GPS?\n",
            "106                          Какие данные о почве необходимо ввести для оптимальной работы функции Section Control?\n",
            "107                             Как настроить динамичное рабочее меню на AmaTron 4 для удобного переключения задач?\n",
            "108   Какие параметры системы автоматического отключения пограничных секций важны при использовании системы AutoTS?\n",
            "109                                Как проверить корректность отображения обработанной площади в системе AmaTron 4?\n",
            "110            Какие шаги нужно выполнить для настройки трактора в соответствии с параметрами распределителя ZG-TS?\n",
            "111                                            Как заранее настроить алгоритм автоматической коррекции GPS-сигнала?\n",
            "112                    Какие настройки нужно сделать для адаптации нормы внесения к изменяющимся погодным условиям?\n",
            "113                            Как правильно задать параметры загрузки данных задания через приложение myAmaRouter?\n",
            "114                     Какие функции нужно активировать для предупреждения перекрытий при распределении удобрений?\n",
            "Answer:\n",
            "Understand the basics of the basic classification system.\n"
          ]
        }
      ]
    },
    {
      "cell_type": "code",
      "source": [],
      "metadata": {
        "id": "QUXFID9GqcAi"
      },
      "execution_count": null,
      "outputs": []
    }
  ]
}